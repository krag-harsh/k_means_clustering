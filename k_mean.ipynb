{
  "nbformat": 4,
  "nbformat_minor": 0,
  "metadata": {
    "colab": {
      "name": "k-mean.ipynb",
      "provenance": [],
      "collapsed_sections": [],
      "authorship_tag": "ABX9TyOP8d1xDu2M5DpxuOiMocqr",
      "include_colab_link": true
    },
    "kernelspec": {
      "name": "python3",
      "display_name": "Python 3"
    }
  },
  "cells": [
    {
      "cell_type": "markdown",
      "metadata": {
        "id": "view-in-github",
        "colab_type": "text"
      },
      "source": [
        "<a href=\"https://colab.research.google.com/github/krag-harsh/k_means_clustering/blob/master/k_mean.ipynb\" target=\"_parent\"><img src=\"https://colab.research.google.com/assets/colab-badge.svg\" alt=\"Open In Colab\"/></a>"
      ]
    },
    {
      "cell_type": "markdown",
      "metadata": {
        "id": "DrSia4tI74xv",
        "colab_type": "text"
      },
      "source": [
        "<H1>Implimenting k-mean clustering on my own<H1/>"
      ]
    },
    {
      "cell_type": "code",
      "metadata": {
        "id": "pfVtlgfkxzfu",
        "colab_type": "code",
        "colab": {}
      },
      "source": [
        "import pandas as pd\n",
        "import numpy as np\n",
        "import random as rd\n",
        "import matplotlib.pyplot as plt\n",
        "import matplotlib.animation as animation"
      ],
      "execution_count": 64,
      "outputs": []
    },
    {
      "cell_type": "code",
      "metadata": {
        "id": "Hpvtr5kZq49D",
        "colab_type": "code",
        "colab": {
          "resources": {
            "http://localhost:8080/nbextensions/google.colab/files.js": {
              "data": "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",
              "ok": true,
              "headers": [
                [
                  "content-type",
                  "application/javascript"
                ]
              ],
              "status": 200,
              "status_text": ""
            }
          },
          "base_uri": "https://localhost:8080/",
          "height": 108
        },
        "outputId": "81b28ec8-e1a3-4fc9-cade-7648af7d3832"
      },
      "source": [
        "from google.colab import files\n",
        "uploaded=files.upload()"
      ],
      "execution_count": 65,
      "outputs": [
        {
          "output_type": "display_data",
          "data": {
            "text/html": [
              "\n",
              "     <input type=\"file\" id=\"files-a1fd30e5-7f9e-4c4a-a502-713cf13479a5\" name=\"files[]\" multiple disabled\n",
              "        style=\"border:none\" />\n",
              "     <output id=\"result-a1fd30e5-7f9e-4c4a-a502-713cf13479a5\">\n",
              "      Upload widget is only available when the cell has been executed in the\n",
              "      current browser session. Please rerun this cell to enable.\n",
              "      </output>\n",
              "      <script src=\"/nbextensions/google.colab/files.js\"></script> "
            ],
            "text/plain": [
              "<IPython.core.display.HTML object>"
            ]
          },
          "metadata": {
            "tags": []
          }
        },
        {
          "output_type": "stream",
          "text": [
            "Saving durudataset.txt to durudataset (2).txt\n",
            "Saving flame.txt to flame (2).txt\n"
          ],
          "name": "stdout"
        }
      ]
    },
    {
      "cell_type": "code",
      "metadata": {
        "id": "qyhM5ivhrc-Y",
        "colab_type": "code",
        "colab": {}
      },
      "source": [
        "data1=np.loadtxt(\"durudataset.txt\")\n",
        "data2=np.loadtxt(\"flame.txt\")"
      ],
      "execution_count": 66,
      "outputs": []
    },
    {
      "cell_type": "code",
      "metadata": {
        "id": "b3nUVZ0Jsbc7",
        "colab_type": "code",
        "colab": {
          "base_uri": "https://localhost:8080/",
          "height": 35
        },
        "outputId": "64674019-38d4-40ab-fea2-a3259595e22e"
      },
      "source": [
        "np.mean(data1,axis=0,keepdims=True)"
      ],
      "execution_count": 67,
      "outputs": [
        {
          "output_type": "execute_result",
          "data": {
            "text/plain": [
              "array([[0.90194657, 0.92928929]])"
            ]
          },
          "metadata": {
            "tags": []
          },
          "execution_count": 67
        }
      ]
    },
    {
      "cell_type": "code",
      "metadata": {
        "id": "V0PsGqN3v-jt",
        "colab_type": "code",
        "colab": {
          "base_uri": "https://localhost:8080/",
          "height": 711
        },
        "outputId": "4c010c49-ee98-4e52-bb25-274186c455d1"
      },
      "source": [
        "print(data1)\n",
        "#print((0.1967**2 - 0.4132**2)+(0.26617**2 - 0.35582**2))"
      ],
      "execution_count": 68,
      "outputs": [
        {
          "output_type": "stream",
          "text": [
            "[[0.19670575 0.26617497]\n",
            " [0.41328699 0.35582835]\n",
            " [0.33843555 0.43573826]\n",
            " [0.10380152 0.16434481]\n",
            " [0.15905236 0.32505901]\n",
            " [0.06690549 0.48741807]\n",
            " [0.33573144 0.03798368]\n",
            " [0.28549554 0.29350958]\n",
            " [0.08488353 0.20694325]\n",
            " [0.07382789 0.15456821]\n",
            " [0.23803986 0.13191702]\n",
            " [0.45405121 0.37938313]\n",
            " [0.27608751 0.49760799]\n",
            " [0.01646995 0.09328572]\n",
            " [0.02693146 0.39057263]\n",
            " [0.40253161 0.09789899]\n",
            " [0.22568743 0.49617949]\n",
            " [0.19132311 0.40113078]\n",
            " [0.39482185 0.21211335]\n",
            " [0.18214343 0.36443193]\n",
            " [1.49835358 1.40350139]\n",
            " [1.80899027 1.93497909]\n",
            " [1.35650893 1.47948455]\n",
            " [1.07324343 1.23179161]\n",
            " [1.59099146 1.39629025]\n",
            " [1.91018783 1.70507748]\n",
            " [1.19376594 1.55855903]\n",
            " [1.43236779 1.7566307 ]\n",
            " [1.74915973 1.99548106]\n",
            " [1.03918449 1.9624314 ]\n",
            " [1.94632499 1.53506711]\n",
            " [1.76367332 1.96387013]\n",
            " [1.55882055 1.11562588]\n",
            " [1.18384294 1.05144829]\n",
            " [1.49794882 1.30434895]\n",
            " [1.5178456  1.58019183]\n",
            " [1.99424301 1.53096445]\n",
            " [1.85485168 1.90120809]\n",
            " [1.96240394 1.54055043]\n",
            " [1.67894101 1.43198061]]\n"
          ],
          "name": "stdout"
        }
      ]
    },
    {
      "cell_type": "code",
      "metadata": {
        "id": "Xz04suet8m4q",
        "colab_type": "code",
        "colab": {
          "base_uri": "https://localhost:8080/",
          "height": 52
        },
        "outputId": "3c22e74a-4dbc-49db-e028-66a4cc111756"
      },
      "source": [
        "print(data1[0])\n",
        "print(data1[0][0])"
      ],
      "execution_count": 69,
      "outputs": [
        {
          "output_type": "stream",
          "text": [
            "[0.19670575 0.26617497]\n",
            "0.196705753183788\n"
          ],
          "name": "stdout"
        }
      ]
    },
    {
      "cell_type": "code",
      "metadata": {
        "id": "TzHq4jEq8tWg",
        "colab_type": "code",
        "colab": {
          "base_uri": "https://localhost:8080/",
          "height": 35
        },
        "outputId": "77c1dbe5-0ce6-498b-e939-b5346a2b1191"
      },
      "source": [
        "print(np.sum(np.sum((data1[0]-data1)**2,axis=1)**0.5))   #this will give the sum of total distance from a point "
      ],
      "execution_count": 70,
      "outputs": [
        {
          "output_type": "stream",
          "text": [
            "41.94248604489651\n"
          ],
          "name": "stdout"
        }
      ]
    },
    {
      "cell_type": "code",
      "metadata": {
        "id": "lJZ0q5pZ9Phz",
        "colab_type": "code",
        "colab": {}
      },
      "source": [
        "def totaldisfrompoint(point1, data1):\n",
        "  return(np.sum(np.sum((point1-data1)**2,axis=1)**0.5))"
      ],
      "execution_count": 71,
      "outputs": []
    },
    {
      "cell_type": "code",
      "metadata": {
        "id": "7Bfufnz7BT0Q",
        "colab_type": "code",
        "colab": {}
      },
      "source": [
        "num_rows, num_colum = data1.shape"
      ],
      "execution_count": 72,
      "outputs": []
    },
    {
      "cell_type": "markdown",
      "metadata": {
        "id": "B0Xn8Lrp8LEd",
        "colab_type": "text"
      },
      "source": [
        "For simplicity i will be using 2 as the value of k"
      ]
    },
    {
      "cell_type": "code",
      "metadata": {
        "id": "kaaQYuPxBoln",
        "colab_type": "code",
        "colab": {
          "base_uri": "https://localhost:8080/",
          "height": 260
        },
        "outputId": "74f77d57-52a7-4fd9-fd88-c2e1f0969beb"
      },
      "source": [
        "#select first k points of the data for starting point\n",
        "k=2\n",
        "centro=np.zeros((k,num_colum))\n",
        "centro_dist_each_point=np.zeros((k,num_rows))\n",
        "centro[0]=data1[0]\n",
        "centro[1]=data1[num_rows-2]\n",
        "for i in range(k):\n",
        "  centro_dist_each_point[i]=np.sum((centro[i]-data1)**2,axis=1)**0.5\n",
        "#print(centro)\n",
        "#print(centro.shape)\n",
        "\n",
        "print(centro_dist_each_point)"
      ],
      "execution_count": 73,
      "outputs": [
        {
          "output_type": "stream",
          "text": [
            "[[0.         0.23440384 0.22099558 0.13784259 0.06989355 0.25650852\n",
            "  0.26720667 0.09290214 0.12654092 0.1659971  0.1404767  0.28114546\n",
            "  0.24466857 0.24975115 0.21047111 0.26585915 0.23182324 0.13506312\n",
            "  0.2053598  0.09933022 1.72852494 2.32042422 1.6784706  1.30412185\n",
            "  1.79476828 2.23751229 1.63229458 1.93605758 2.32392188 1.89395256\n",
            "  2.16130857 2.31031518 1.6052799  1.26138576 1.66464372 1.86334399\n",
            "  2.19791552 2.32868659 2.17754975 1.88576885]\n",
            " [2.17754975 1.95021274 1.9641495  2.31264889 2.17474051 2.16841004\n",
            "  2.21444581 2.08976856 2.30295267 2.34257683 2.22658473 1.90353288\n",
            "  1.98277382 2.42512561 2.25133352 2.1247223  2.02654753 2.10594501\n",
            "  2.05476487 2.13367809 0.48386483 0.42321357 0.60896453 0.94124301\n",
            "  0.39844477 0.17261423 0.76884894 0.57238886 0.50242907 1.01504567\n",
            "  0.01698821 0.46764669 0.5860379  0.91944446 0.52106593 0.44632226\n",
            "  0.03325082 0.37635281 0.         0.30354347]]\n"
          ],
          "name": "stdout"
        }
      ]
    },
    {
      "cell_type": "code",
      "metadata": {
        "id": "oUd0RXwaTnMl",
        "colab_type": "code",
        "colab": {
          "base_uri": "https://localhost:8080/",
          "height": 52
        },
        "outputId": "c35f5922-2af5-4894-da7d-13ab6a3b3c71"
      },
      "source": [
        "#classes=np.zeros((k,num_rows))\n",
        "cl1x,cl2x,cl1y,cl2y=0,0,0,0\n",
        "e1,e2=0,0\n",
        "for i in range(num_rows):\n",
        "  if(centro_dist_each_point[0][i]>centro_dist_each_point[1][i]):\n",
        "    cl1x+=data1[i][0]\n",
        "    cl1y+=data1[i][1]\n",
        "    e1+=1\n",
        "  else:\n",
        "    cl2x+=data1[i][0]\n",
        "    cl2y+=data1[i][1]\n",
        "    e2+=1\n",
        "\n",
        "#this is our new centers from which we would be calculating distance\n",
        "centro=np.array([[cl1x,cl1y],[cl2x,cl2y]])\n",
        "centro[0]=np.divide(centro[0],e1)\n",
        "centro[1]=np.divide(centro[1],e2)\n",
        "print(centro)"
      ],
      "execution_count": 74,
      "outputs": [
        {
          "output_type": "stream",
          "text": [
            "[[1.58058247 1.56897412]\n",
            " [0.22331067 0.28960446]]\n"
          ],
          "name": "stdout"
        }
      ]
    },
    {
      "cell_type": "code",
      "metadata": {
        "id": "TmDiKNGOWlcF",
        "colab_type": "code",
        "colab": {
          "base_uri": "https://localhost:8080/",
          "height": 265
        },
        "outputId": "96960f3f-c7e6-4d2c-d2b9-1f784b462bd6"
      },
      "source": [
        "fig, ax = plt.subplots()\n",
        "\n",
        "for i in range(num_rows):\n",
        "  ax.plot(data1[i][0],data1[i][1],'ro')\n",
        "ax.plot(centro[0][0], centro[0][1],'bo')\n",
        "ax.plot(centro[1][0], centro[1][1],'go')\n",
        "\n",
        "plt.show()"
      ],
      "execution_count": 75,
      "outputs": [
        {
          "output_type": "display_data",
          "data": {
            "image/png": "[encoded data removed]",
            "text/plain": [
              "<Figure size 432x288 with 1 Axes>"
            ]
          },
          "metadata": {
            "tags": [],
            "needs_background": "light"
          }
        }
      ]
    },
    {
      "cell_type": "code",
      "metadata": {
        "id": "7ufrwiRYn4d-",
        "colab_type": "code",
        "colab": {}
      },
      "source": [
        "def findcent(pts,data1):\n",
        "  num_rows, num_colum = data1.shape\n",
        "  k=2\n",
        "  # for i in range(k):\n",
        "  #   centro_dist_each_point[i]=np.sum((pts[i]-data1)**2,axis=1)\n",
        "  centro_dist_each_point[0]=np.sum((pts[0]-data1)**2 ,axis=1)\n",
        "  centro_dist_each_point[1]=np.sum((pts[1]-data1)**2 ,axis=1)\n",
        "  cl1x,cl2x,cl1y,cl2y=0,0,0,0\n",
        "  e1,e2=0,0\n",
        "  for i in range(num_rows):\n",
        "    if(centro_dist_each_point[0][i]>centro_dist_each_point[1][i]):\n",
        "      cl1x+=data1[i][0]\n",
        "      cl1y+=data1[i][1]\n",
        "      e1+=1\n",
        "    else:\n",
        "      cl2x+=data1[i][0]\n",
        "      cl2y+=data1[i][1]\n",
        "      e2+=1\n",
        "\n",
        "  centro=np.array([[cl1x,cl1y],[cl2x,cl2y]])#this is our new centers from which we would be calculating distance\n",
        "  centro[0]=np.divide(centro[0],e1)\n",
        "  centro[1]=np.divide(centro[1],e2)\n",
        "  return(centro)\n",
        "  "
      ],
      "execution_count": 76,
      "outputs": []
    },
    {
      "cell_type": "code",
      "metadata": {
        "id": "qCtrsIGeJNpd",
        "colab_type": "code",
        "colab": {
          "base_uri": "https://localhost:8080/",
          "height": 300
        },
        "outputId": "32ae27b1-f890-440a-dee2-c9e71bb2b5fa"
      },
      "source": [
        "# pt=[[1.30349477,1.28300202],[0.1562142 , 0.27239423]]\n",
        "pt=[[1.58058247, 1.56897412],[0.22331067, 0.28960446]]\n",
        "for i in range(30):\n",
        "  pt=findcent(pt,data1)\n",
        "\n",
        "fig, ax = plt.subplots()\n",
        "for i in range(num_rows):\n",
        "  ax.plot(data1[i][0],data1[i][1],'ro')\n",
        "ax.plot(pt[0][0], pt[0][1],'bo')\n",
        "ax.plot(pt[1][0], pt[1][1],'go')\n",
        "plt.show()\n",
        "# plt.plot(data1,'bo')\n",
        "# plt.plot(pt[0],pt[1],'r+')\n",
        "print(pt)"
      ],
      "execution_count": 77,
      "outputs": [
        {
          "output_type": "display_data",
          "data": {
            "image/png": "[encoded data removed]",
            "text/plain": [
              "<Figure size 432x288 with 1 Axes>"
            ]
          },
          "metadata": {
            "tags": [],
            "needs_background": "light"
          }
        },
        {
          "output_type": "stream",
          "text": [
            "[[1.58058247 1.56897412]\n",
            " [0.22331067 0.28960446]]\n"
          ],
          "name": "stdout"
        }
      ]
    },
    {
      "cell_type": "markdown",
      "metadata": {
        "id": "z4z0o_giKaTD",
        "colab_type": "text"
      },
      "source": [
        "I found this really helpfull\n",
        "\n",
        "[Link to github](https://github.com/llSourcell/k_means_clustering)\n",
        "\n",
        "The next session is copied from here. Check if want to have more than two class or the value of k is more than 2."
      ]
    },
    {
      "cell_type": "code",
      "metadata": {
        "id": "nlii410yxZ8e",
        "colab_type": "code",
        "colab": {}
      },
      "source": [
        "def load_dataset(name):\n",
        "    return np.loadtxt(name)\n",
        "\n",
        "\n",
        "def euclidian(a, b):\n",
        "    return np.linalg.norm(a-b)\n",
        "\n",
        "\n",
        "def plot(dataset, history_centroids, belongs_to):\n",
        "    colors = ['r', 'g']\n",
        "    fig, ax = plt.subplots()\n",
        "    for index in range(dataset.shape[0]):\n",
        "        instances_close = [i for i in range(len(belongs_to)) if belongs_to[i] == index]\n",
        "        for instance_index in instances_close:\n",
        "            ax.plot(dataset[instance_index][0], dataset[instance_index][1], (colors[index] + 'o'))\n",
        "\n",
        "    history_points = []\n",
        "    for index, centroids in enumerate(history_centroids):\n",
        "        for inner, item in enumerate(centroids):\n",
        "            if index == 0:\n",
        "                history_points.append(ax.plot(item[0], item[1], 'bo')[0])\n",
        "            else:\n",
        "                history_points[inner].set_data(item[0], item[1])\n",
        "                print(\"centroids {} {}\".format(index, item))\n",
        "                plt.pause(0.8)\n",
        "\n",
        "\n",
        "def kmeans(k, epsilon=0, distance='euclidian'):\n",
        "    history_centroids = []\n",
        "    if distance == 'euclidian':\n",
        "        dist_method = euclidian\n",
        "    dataset = load_dataset('durudataset.txt')\n",
        "    # dataset = dataset[:, 0:dataset.shape[1] - 1]\n",
        "    num_instances, num_features = dataset.shape\n",
        "    prototypes = dataset[np.random.randint(0, num_instances - 1, size=k)]\n",
        "    history_centroids.append(prototypes)\n",
        "    prototypes_old = np.zeros(prototypes.shape)\n",
        "    belongs_to = np.zeros((num_instances, 1))\n",
        "    norm = dist_method(prototypes, prototypes_old)\n",
        "    iteration = 0\n",
        "    while norm > epsilon:\n",
        "        iteration += 1\n",
        "        norm = dist_method(prototypes, prototypes_old)\n",
        "        prototypes_old = prototypes\n",
        "        for index_instance, instance in enumerate(dataset):\n",
        "            dist_vec = np.zeros((k, 1))\n",
        "            for index_prototype, prototype in enumerate(prototypes):\n",
        "                dist_vec[index_prototype] = dist_method(prototype,instance)\n",
        "            belongs_to[index_instance, 0] = np.argmin(dist_vec)\n",
        "        tmp_prototypes = np.zeros((k, num_features))\n",
        "\n",
        "        for index in range(len(prototypes)):\n",
        "            instances_close = [i for i in range(len(belongs_to)) if belongs_to[i] == index]\n",
        "            prototype = np.mean(dataset[instances_close], axis=0)\n",
        "            tmp_prototypes[index, :] = prototype\n",
        "        prototypes = tmp_prototypes\n",
        "        history_centroids.append(tmp_prototypes)\n",
        "\n",
        "    return prototypes, history_centroids, belongs_to\n"
      ],
      "execution_count": 78,
      "outputs": []
    },
    {
      "cell_type": "code",
      "metadata": {
        "id": "fdXD3p_I52l2",
        "colab_type": "code",
        "colab": {}
      },
      "source": [
        "def execute():\n",
        "    dataset = load_dataset('durudataset.txt')\n",
        "    centroids, history_centroids, belongs_to = kmeans(2)\n",
        "    plot(dataset, history_centroids, belongs_to)"
      ],
      "execution_count": 79,
      "outputs": []
    },
    {
      "cell_type": "code",
      "metadata": {
        "id": "fBXChHVv5421",
        "colab_type": "code",
        "colab": {
          "base_uri": "https://localhost:8080/",
          "height": 439
        },
        "outputId": "38d1d5c6-3866-4d2a-b885-aa080bf42bf8"
      },
      "source": [
        "execute()"
      ],
      "execution_count": 80,
      "outputs": [
        {
          "output_type": "stream",
          "text": [
            "centroids 1 [0.70347859 0.6713917 ]\n"
          ],
          "name": "stdout"
        },
        {
          "output_type": "display_data",
          "data": {
            "image/png": "[encoded data removed]",
            "text/plain": [
              "<Figure size 432x288 with 1 Axes>"
            ]
          },
          "metadata": {
            "tags": [],
            "needs_background": "light"
          }
        },
        {
          "output_type": "stream",
          "text": [
            "centroids 1 [1.58555852 1.8176032 ]\n",
            "centroids 2 [0.30560454 0.36706042]\n",
            "centroids 2 [1.63080905 1.61645791]\n",
            "centroids 3 [0.22331067 0.28960446]\n",
            "centroids 3 [1.58058247 1.56897412]\n",
            "centroids 4 [0.22331067 0.28960446]\n",
            "centroids 4 [1.58058247 1.56897412]\n",
            "centroids 5 [0.22331067 0.28960446]\n",
            "centroids 5 [1.58058247 1.56897412]\n"
          ],
          "name": "stdout"
        }
      ]
    },
    {
      "cell_type": "code",
      "metadata": {
        "id": "SprZNzVL57Od",
        "colab_type": "code",
        "colab": {}
      },
      "source": [
        ""
      ],
      "execution_count": 80,
      "outputs": []
    }
  ]
}